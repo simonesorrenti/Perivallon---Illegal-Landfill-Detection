{
 "cells": [
  {
   "cell_type": "code",
   "execution_count": 1,
   "metadata": {},
   "outputs": [
    {
     "name": "stderr",
     "output_type": "stream",
     "text": [
      "2023-12-01 11:14:46.247224: E tensorflow/compiler/xla/stream_executor/cuda/cuda_dnn.cc:9342] Unable to register cuDNN factory: Attempting to register factory for plugin cuDNN when one has already been registered\n",
      "2023-12-01 11:14:46.247298: E tensorflow/compiler/xla/stream_executor/cuda/cuda_fft.cc:609] Unable to register cuFFT factory: Attempting to register factory for plugin cuFFT when one has already been registered\n",
      "2023-12-01 11:14:46.247338: E tensorflow/compiler/xla/stream_executor/cuda/cuda_blas.cc:1518] Unable to register cuBLAS factory: Attempting to register factory for plugin cuBLAS when one has already been registered\n",
      "2023-12-01 11:14:46.257025: I tensorflow/core/platform/cpu_feature_guard.cc:182] This TensorFlow binary is optimized to use available CPU instructions in performance-critical operations.\n",
      "To enable the following instructions: AVX2 FMA, in other operations, rebuild TensorFlow with the appropriate compiler flags.\n"
     ]
    },
    {
     "name": "stdout",
     "output_type": "stream",
     "text": [
      "2.14.0\n"
     ]
    },
    {
     "name": "stderr",
     "output_type": "stream",
     "text": [
      "/home/simones95/.venv/lib/python3.10/site-packages/tensorflow_addons/utils/tfa_eol_msg.py:23: UserWarning: \n",
      "\n",
      "TensorFlow Addons (TFA) has ended development and introduction of new features.\n",
      "TFA has entered a minimal maintenance and release mode until a planned end of life in May 2024.\n",
      "Please modify downstream libraries to take dependencies from other repositories in our TensorFlow community (e.g. Keras, Keras-CV, and Keras-NLP). \n",
      "\n",
      "For more information see: https://github.com/tensorflow/addons/issues/2807 \n",
      "\n",
      "  warnings.warn(\n",
      "2023-12-01 11:14:49.170059: I tensorflow/compiler/xla/stream_executor/cuda/cuda_gpu_executor.cc:894] successful NUMA node read from SysFS had negative value (-1), but there must be at least one NUMA node, so returning NUMA node zero. See more at https://github.com/torvalds/linux/blob/v6.0/Documentation/ABI/testing/sysfs-bus-pci#L344-L355\n",
      "2023-12-01 11:14:49.177500: I tensorflow/compiler/xla/stream_executor/cuda/cuda_gpu_executor.cc:894] successful NUMA node read from SysFS had negative value (-1), but there must be at least one NUMA node, so returning NUMA node zero. See more at https://github.com/torvalds/linux/blob/v6.0/Documentation/ABI/testing/sysfs-bus-pci#L344-L355\n",
      "2023-12-01 11:14:49.179412: I tensorflow/compiler/xla/stream_executor/cuda/cuda_gpu_executor.cc:894] successful NUMA node read from SysFS had negative value (-1), but there must be at least one NUMA node, so returning NUMA node zero. See more at https://github.com/torvalds/linux/blob/v6.0/Documentation/ABI/testing/sysfs-bus-pci#L344-L355\n"
     ]
    },
    {
     "name": "stdout",
     "output_type": "stream",
     "text": [
      "Num GPUs Available:  1\n",
      "Versione di TensorFlow: 2.14.0\n"
     ]
    }
   ],
   "source": [
    "import tensorflow as tf\n",
    "print(tf.__version__)\n",
    "import numpy as np\n",
    "import keras.backend as K\n",
    "import os\n",
    "import random\n",
    "import matplotlib.pyplot as plt\n",
    "tfk = tf.keras\n",
    "tfkl = tf.keras.layers\n",
    "import json\n",
    "from sklearn.metrics import accuracy_score, precision_score, recall_score, f1_score, confusion_matrix\n",
    "import seaborn as sns\n",
    "from vit_keras import vit, utils\n",
    "\n",
    "# Random seed for reproducibility\n",
    "seed = 21\n",
    "random.seed(seed)\n",
    "os.environ['PYTHONHASHSEED'] = str(seed)\n",
    "np.random.seed(seed)\n",
    "tf.random.set_seed(seed)\n",
    "tf.compat.v1.set_random_seed(seed)\n",
    "\n",
    "print(\"Num GPUs Available: \", len(tf.config.list_physical_devices('GPU')))\n",
    "print(\"Versione di TensorFlow:\", tf.__version__)"
   ]
  },
  {
   "cell_type": "code",
   "execution_count": 2,
   "metadata": {},
   "outputs": [
    {
     "name": "stderr",
     "output_type": "stream",
     "text": [
      "2023-12-01 11:14:49.192182: I tensorflow/compiler/xla/stream_executor/cuda/cuda_gpu_executor.cc:894] successful NUMA node read from SysFS had negative value (-1), but there must be at least one NUMA node, so returning NUMA node zero. See more at https://github.com/torvalds/linux/blob/v6.0/Documentation/ABI/testing/sysfs-bus-pci#L344-L355\n",
      "2023-12-01 11:14:49.194080: I tensorflow/compiler/xla/stream_executor/cuda/cuda_gpu_executor.cc:894] successful NUMA node read from SysFS had negative value (-1), but there must be at least one NUMA node, so returning NUMA node zero. See more at https://github.com/torvalds/linux/blob/v6.0/Documentation/ABI/testing/sysfs-bus-pci#L344-L355\n",
      "2023-12-01 11:14:49.195947: I tensorflow/compiler/xla/stream_executor/cuda/cuda_gpu_executor.cc:894] successful NUMA node read from SysFS had negative value (-1), but there must be at least one NUMA node, so returning NUMA node zero. See more at https://github.com/torvalds/linux/blob/v6.0/Documentation/ABI/testing/sysfs-bus-pci#L344-L355\n",
      "2023-12-01 11:14:49.908920: I tensorflow/compiler/xla/stream_executor/cuda/cuda_gpu_executor.cc:894] successful NUMA node read from SysFS had negative value (-1), but there must be at least one NUMA node, so returning NUMA node zero. See more at https://github.com/torvalds/linux/blob/v6.0/Documentation/ABI/testing/sysfs-bus-pci#L344-L355\n",
      "2023-12-01 11:14:49.910357: I tensorflow/compiler/xla/stream_executor/cuda/cuda_gpu_executor.cc:894] successful NUMA node read from SysFS had negative value (-1), but there must be at least one NUMA node, so returning NUMA node zero. See more at https://github.com/torvalds/linux/blob/v6.0/Documentation/ABI/testing/sysfs-bus-pci#L344-L355\n",
      "2023-12-01 11:14:49.911541: I tensorflow/compiler/xla/stream_executor/cuda/cuda_gpu_executor.cc:894] successful NUMA node read from SysFS had negative value (-1), but there must be at least one NUMA node, so returning NUMA node zero. See more at https://github.com/torvalds/linux/blob/v6.0/Documentation/ABI/testing/sysfs-bus-pci#L344-L355\n",
      "2023-12-01 11:14:49.912705: I tensorflow/core/common_runtime/gpu/gpu_device.cc:1886] Created device /job:localhost/replica:0/task:0/device:GPU:0 with 38238 MB memory:  -> device: 0, name: NVIDIA A100-SXM4-40GB, pci bus id: 0000:06:10.0, compute capability: 8.0\n"
     ]
    }
   ],
   "source": [
    "#Parameters\n",
    "\n",
    "path_images = \"/dataset/new_simones/AerialWaste2\"\n",
    "path_json = \"/home/simones95/EnvCrime\"\n",
    "AW1 = False\n",
    "AW2 = not AW1\n",
    "\n",
    "oversampling = True\n",
    "OHE = False\n",
    "\n",
    "batch_size = 2 #8\n",
    "spatial_resolution = 30\n",
    "max_dim = 736 #736 #1088\n",
    "max_shape = tf.constant((max_dim, max_dim))\n",
    "\n",
    "learning_rate = 1.0e-5\n",
    "l2 = 1.0e-1"
   ]
  },
  {
   "cell_type": "code",
   "execution_count": 3,
   "metadata": {},
   "outputs": [
    {
     "name": "stdout",
     "output_type": "stream",
     "text": [
      "Training:  6697   0.6418439716312057\n",
      "Validation:  1675   0.16053287329883076\n",
      "Testing:  2605   0.24966455817519648\n",
      "Training - Positive:  2237  - Negative:  4460\n",
      "Validation - Positive:  556  - Negative:  1119\n",
      "Testing - Positive:  866  - Negative:  1739\n"
     ]
    }
   ],
   "source": [
    "def load_data(name_json):\n",
    "    # Load dataset for binary classification\n",
    "    dataset = json.load(open(os.path.join(path_json, name_json)))\n",
    "    if 'training' in name_json:\n",
    "        pairs = [[os.path.join(path_images, 'images', d['file_name']), d['is_candidate_location']] for d in dataset['images']]\n",
    "    else:\n",
    "        if AW1: \n",
    "            pairs = [[os.path.join(path_images, 'images', d['file_name']), d['is_candidate_location']] for d in dataset['images']]\n",
    "        else:\n",
    "            pairs = [[os.path.join(path_images, 'images', d['file_name']), d['is_suspicius_location']] for d in dataset['images']]\n",
    "            \n",
    "    #Shuffle the pairs\n",
    "    random.shuffle(pairs)\n",
    "    \n",
    "    # Extract info_images and their binary labels\n",
    "    info_images, binary_labels = zip(*pairs)\n",
    "    info_images = list(info_images)\n",
    "    binary_labels = list(binary_labels)\n",
    "    \n",
    "    return info_images, binary_labels\n",
    "\n",
    "if AW1:\n",
    "    training_json = \"training_aw1.json\"\n",
    "    testing_json = \"testing_aw1.json\"\n",
    "elif AW2:\n",
    "    training_json = \"training_aw2.json\"\n",
    "    testing_json = \"testing_aw2.json\"\n",
    "\n",
    "training_info_images, training_binary_labels = load_data(training_json)\n",
    "num_samples_training = int(len(training_info_images) * 0.8)\n",
    "validation_info_images, validation_binary_labels = training_info_images[num_samples_training:], training_binary_labels[num_samples_training:]\n",
    "training_info_images, training_binary_labels = training_info_images[:num_samples_training], training_binary_labels[:num_samples_training]\n",
    "testing_info_images, testing_binary_labels = load_data(testing_json)\n",
    "\n",
    "print(\"Training: \", len(training_info_images), \" \", len(training_info_images)/10434)\n",
    "print(\"Validation: \", len(validation_info_images), \" \", len(validation_info_images)/10434)\n",
    "print(\"Testing: \", len(testing_info_images), \" \", len(testing_info_images)/10434)\n",
    "\n",
    "print(\"Training - Positive: \", sum(training_binary_labels), \" - Negative: \", len(training_binary_labels) - sum(training_binary_labels))\n",
    "print(\"Validation - Positive: \", sum(validation_binary_labels), \" - Negative: \", len(validation_binary_labels) - sum(validation_binary_labels))\n",
    "print(\"Testing - Positive: \", sum(testing_binary_labels), \" - Negative: \", len(testing_binary_labels) - sum(testing_binary_labels))"
   ]
  },
  {
   "cell_type": "code",
   "execution_count": 4,
   "metadata": {},
   "outputs": [
    {
     "name": "stdout",
     "output_type": "stream",
     "text": [
      "Training - Positive:  4460  - Negative:  4460\n"
     ]
    }
   ],
   "source": [
    "def RandomOversampling(info_images, binary_labels):\n",
    "    upsampling_factor = len(binary_labels)-2*sum(binary_labels)\n",
    "    positive_indices = [i for i, value in enumerate(binary_labels) if value == 1]\n",
    "    random.shuffle(positive_indices)\n",
    "    for i in range(upsampling_factor):\n",
    "        if i < len(positive_indices):\n",
    "            info_images.append(info_images[positive_indices[i]])\n",
    "            binary_labels.append(binary_labels[positive_indices[i]])\n",
    "        \n",
    "    upsampling_factor = len(binary_labels)-2*sum(binary_labels)\n",
    "    if upsampling_factor > 0:\n",
    "        info_images, binary_labels = RandomOversampling(info_images, binary_labels)\n",
    "        \n",
    "    random.seed(seed)\n",
    "    random.shuffle(info_images)\n",
    "    random.seed(seed)\n",
    "    random.shuffle(binary_labels)\n",
    "    \n",
    "    return info_images, binary_labels\n",
    "\n",
    "if oversampling:\n",
    "    training_info_images, training_binary_labels = RandomOversampling(training_info_images, training_binary_labels)\n",
    "\n",
    "print(\"Training - Positive: \", sum(training_binary_labels), \" - Negative: \", len(training_binary_labels) - sum(training_binary_labels))"
   ]
  },
  {
   "cell_type": "code",
   "execution_count": 5,
   "metadata": {},
   "outputs": [],
   "source": [
    "# One-hot encoding\n",
    "if OHE:\n",
    "    num_classes = 2\n",
    "    \n",
    "    def one_hot_encoding(label, num_classes):\n",
    "        one_hot_vector = [0.0] * num_classes\n",
    "        one_hot_vector[label] = 1.0\n",
    "        return one_hot_vector\n",
    "\n",
    "    training_binary_labels = [one_hot_encoding(label, num_classes) for label in training_binary_labels]\n",
    "    validation_binary_labels = [one_hot_encoding(label, num_classes) for label in validation_binary_labels]\n",
    "    testing_binary_labels = [one_hot_encoding(label, num_classes) for label in testing_binary_labels]"
   ]
  },
  {
   "cell_type": "code",
   "execution_count": 6,
   "metadata": {},
   "outputs": [],
   "source": [
    "# Custom Generator\n",
    "def load(info_image, label):\n",
    "    image = tf.io.read_file(info_image)\n",
    "    image = tf.image.decode_png(image, channels=3)\n",
    "    \n",
    "    shape = tf.shape(image)\n",
    "    spatial_resolution_image = 210 * 100 / tf.maximum(shape[0],shape[1])\n",
    "    \n",
    "    #spatial_resolution_image = tf.random.uniform(shape=[], minval=20, maxval=30, dtype=tf.float64)\n",
    "    new_shape_image = tf.cast(tf.cast(shape, tf.float64) * (spatial_resolution_image / spatial_resolution), tf.int32)\n",
    "    \n",
    "    image = tf.image.resize(image, size=new_shape_image[0:2])\n",
    "    \n",
    "    offset = max_shape - new_shape_image[0:2]\n",
    "    if offset[0] % 2 == 0 and offset[1] % 2 == 0:\n",
    "        image_channel0 = tf.pad(image[:,:,0], [[offset[0]//2, offset[0]//2], [offset[1]//2, offset[1]//2]], mode=\"CONSTANT\", constant_values=80.9056)\n",
    "        image_channel1 = tf.pad(image[:,:,1], [[offset[0]//2, offset[0]//2], [offset[1]//2, offset[1]//2]], mode=\"CONSTANT\", constant_values=84.9275)\n",
    "        image_channel2 = tf.pad(image[:,:,2], [[offset[0]//2, offset[0]//2], [offset[1]//2, offset[1]//2]], mode=\"CONSTANT\", constant_values=70.8963)\n",
    "    elif offset[0] % 2 == 0 and offset[1] % 2 != 0:\n",
    "        image_channel0 = tf.pad(image[:,:,0], [[offset[0]//2, offset[0]//2], [offset[1]//2, offset[1]//2+1]], mode=\"CONSTANT\", constant_values=80.9056)\n",
    "        image_channel1 = tf.pad(image[:,:,1], [[offset[0]//2, offset[0]//2], [offset[1]//2, offset[1]//2+1]], mode=\"CONSTANT\", constant_values=84.9275)\n",
    "        image_channel2 = tf.pad(image[:,:,2], [[offset[0]//2, offset[0]//2], [offset[1]//2, offset[1]//2+1]], mode=\"CONSTANT\", constant_values=70.8963)\n",
    "    elif offset[0] % 2 != 0 and offset[1] % 2 == 0:\n",
    "        image_channel0 = tf.pad(image[:,:,0], [[offset[0]//2, offset[0]//2+1], [offset[1]//2, offset[1]//2]], mode=\"CONSTANT\", constant_values=80.9056)\n",
    "        image_channel1 = tf.pad(image[:,:,1], [[offset[0]//2, offset[0]//2+1], [offset[1]//2, offset[1]//2]], mode=\"CONSTANT\", constant_values=84.9275)\n",
    "        image_channel2 = tf.pad(image[:,:,2], [[offset[0]//2, offset[0]//2+1], [offset[1]//2, offset[1]//2]], mode=\"CONSTANT\", constant_values=70.8963)\n",
    "    else:\n",
    "        image_channel0 = tf.pad(image[:,:,0], [[offset[0]//2, offset[0]//2+1], [offset[1]//2, offset[1]//2+1]], mode=\"CONSTANT\", constant_values=80.9056)\n",
    "        image_channel1 = tf.pad(image[:,:,1], [[offset[0]//2, offset[0]//2+1], [offset[1]//2, offset[1]//2+1]], mode=\"CONSTANT\", constant_values=84.9275)\n",
    "        image_channel2 = tf.pad(image[:,:,2], [[offset[0]//2, offset[0]//2+1], [offset[1]//2, offset[1]//2+1]], mode=\"CONSTANT\", constant_values=70.8963)\n",
    "    \n",
    "    image_channel0 = tf.expand_dims(image_channel0, axis=-1)\n",
    "    image_channel1 = tf.expand_dims(image_channel1, axis=-1)\n",
    "    image_channel2 = tf.expand_dims(image_channel2, axis=-1)\n",
    "    image = tf.concat([image_channel0, image_channel1, image_channel2], axis=-1)\n",
    "    \n",
    "    return image, label\n",
    "\n",
    "def make_dataset(info_images, binary_labels):\n",
    "    return tf.data.Dataset.from_tensor_slices((info_images, binary_labels))\\\n",
    "        .map(load)\\\n",
    "        .batch(batch_size)\\\n",
    "        .prefetch(tf.data.AUTOTUNE)\n",
    "\n",
    "train_ds = make_dataset(training_info_images, training_binary_labels)\n",
    "val_ds = make_dataset(validation_info_images, validation_binary_labels)\n",
    "test_ds = make_dataset(testing_info_images, testing_binary_labels)"
   ]
  },
  {
   "cell_type": "code",
   "execution_count": 7,
   "metadata": {},
   "outputs": [
    {
     "name": "stdout",
     "output_type": "stream",
     "text": [
      "(2, 736, 736, 3)\n",
      "tf.Tensor(1, shape=(), dtype=int32)\n"
     ]
    },
    {
     "data": {
      "image/png": "[encoded data removed]",
      "text/plain": [
       "<Figure size 800x800 with 1 Axes>"
      ]
     },
     "metadata": {},
     "output_type": "display_data"
    }
   ],
   "source": [
    "for i,o in train_ds.take(1):\n",
    "  print(i.shape)\n",
    "  plt.figure(figsize=(8, 8))\n",
    "  for index in range(1):\n",
    "    print(o[index])\n",
    "    plt.subplot(2, 4, index+1)\n",
    "    plt.imshow(i[index]/255, cmap='gray')\n",
    "    plt.axis('off')\n",
    "\n",
    "  plt.show()"
   ]
  },
  {
   "cell_type": "code",
   "execution_count": 8,
   "metadata": {},
   "outputs": [],
   "source": [
    "class RandomNoiseLayer(tf.keras.layers.Layer):\n",
    "    def __init__(self, noise_factor, **kwargs):\n",
    "        super(RandomNoiseLayer, self).__init__(**kwargs)\n",
    "        self.noise_factor = noise_factor\n",
    "\n",
    "    def call(self, inputs, training=None):\n",
    "        if training:\n",
    "            noisy_inputs = inputs + self.noise_factor * tf.random.normal(shape=tf.shape(inputs))\n",
    "            noisy_inputs = tf.clip_by_value(noisy_inputs, 0.0, 255.0)\n",
    "            return noisy_inputs\n",
    "        return inputs\n",
    "\n",
    "    def get_config(self):\n",
    "        config = super().get_config()\n",
    "        config.update({'noise_factor': self.noise_factor})\n",
    "        return config\n"
   ]
  },
  {
   "cell_type": "code",
   "execution_count": 9,
   "metadata": {},
   "outputs": [
    {
     "name": "stderr",
     "output_type": "stream",
     "text": [
      "/home/simones95/.venv/lib/python3.10/site-packages/vit_keras/utils.py:81: UserWarning: Resizing position embeddings from 24, 24 to 46, 46\n",
      "  warnings.warn(\n"
     ]
    }
   ],
   "source": [
    "vit_model = vit.vit_l16(\n",
    "        image_size = (max_dim,max_dim),\n",
    "        pretrained = True,\n",
    "        include_top = False,\n",
    "        pretrained_top = False)"
   ]
  },
  {
   "cell_type": "code",
   "execution_count": 10,
   "metadata": {},
   "outputs": [
    {
     "name": "stdout",
     "output_type": "stream",
     "text": [
      "Model: \"vision_transformer\"\n",
      "_________________________________________________________________\n",
      " Layer (type)                Output Shape              Param #   \n",
      "=================================================================\n",
      " random_noise (RandomNoiseL  (None, None, None, 3)     0         \n",
      " ayer)                                                           \n",
      "                                                                 \n",
      " random_brightness (RandomB  (None, None, None, 3)     0         \n",
      " rightness)                                                      \n",
      "                                                                 \n",
      " random_constrast (RandomCo  (None, None, None, 3)     0         \n",
      " ntrast)                                                         \n",
      "                                                                 \n",
      " random_flip (RandomFlip)    (None, None, None, 3)     0         \n",
      "                                                                 \n",
      " random_rotation (RandomRot  (None, None, None, 3)     0         \n",
      " ation)                                                          \n",
      "                                                                 \n",
      " rescaling (Rescaling)       (None, None, None, 3)     0         \n",
      "                                                                 \n",
      " vit-l16 (Functional)        (None, 1024)              305267712 \n",
      "                                                                 \n",
      " output (Dense)              (None, 1)                 1025      \n",
      "                                                                 \n",
      "=================================================================\n",
      "Total params: 305268737 (1.14 GB)\n",
      "Trainable params: 305268737 (1.14 GB)\n",
      "Non-trainable params: 0 (0.00 Byte)\n",
      "_________________________________________________________________\n"
     ]
    }
   ],
   "source": [
    "binary_classifier = tf.keras.Sequential([\n",
    "        tfkl.Input(shape=(None, None, 3), name='input'),\n",
    "        RandomNoiseLayer(10.0, name='random_noise'),\n",
    "        tfkl.RandomBrightness(0.2, name='random_brightness'),\n",
    "        tfkl.RandomContrast(0.2, name='random_constrast'),\n",
    "        tfkl.RandomFlip(name='random_flip'),\n",
    "        tfkl.RandomRotation(1, fill_mode='constant', fill_value=0.0, name='random_rotation'),\n",
    "        tf.keras.layers.Rescaling(scale=1/255, offset=0.0, name='rescaling'),\n",
    "        vit_model,\n",
    "        #tfkl.Dense(1024, activation=\"relu\", name='dense1'),\n",
    "        #tfkl.Dense(512, activation=\"relu\", name='dense2'),\n",
    "        #tfkl.Dense(256, activation=\"relu\", name='dense3'),\n",
    "        tfkl.Dense(1, activation=\"sigmoid\", name='output')\n",
    "    ],\n",
    "    name = 'vision_transformer')\n",
    "\n",
    "binary_classifier.summary()"
   ]
  },
  {
   "cell_type": "code",
   "execution_count": 11,
   "metadata": {},
   "outputs": [
    {
     "name": "stdout",
     "output_type": "stream",
     "text": [
      "Epoch 1/12\n"
     ]
    },
    {
     "name": "stderr",
     "output_type": "stream",
     "text": [
      "2023-12-01 11:15:39.915227: I tensorflow/tsl/platform/default/subprocess.cc:304] Start cannot spawn child process: No such file or directory\n",
      "2023-12-01 11:15:41.623968: I tensorflow/compiler/xla/stream_executor/cuda/cuda_dnn.cc:442] Loaded cuDNN version 8700\n",
      "2023-12-01 11:15:42.185919: I tensorflow/tsl/platform/default/subprocess.cc:304] Start cannot spawn child process: No such file or directory\n",
      "2023-12-01 11:15:44.242990: I tensorflow/compiler/xla/service/service.cc:168] XLA service 0x7f166c132b40 initialized for platform CUDA (this does not guarantee that XLA will be used). Devices:\n",
      "2023-12-01 11:15:44.243028: I tensorflow/compiler/xla/service/service.cc:176]   StreamExecutor device (0): NVIDIA A100-SXM4-40GB, Compute Capability 8.0\n",
      "2023-12-01 11:15:44.248495: I tensorflow/compiler/mlir/tensorflow/utils/dump_mlir_util.cc:269] disabling MLIR crash reproducer, set env var `MLIR_CRASH_REPRODUCER_DIRECTORY` to enable.\n",
      "2023-12-01 11:15:44.340235: I ./tensorflow/compiler/jit/device_compiler.h:186] Compiled cluster using XLA!  This line is logged at most once for the lifetime of the process.\n"
     ]
    },
    {
     "name": "stdout",
     "output_type": "stream",
     "text": [
      "4460/4460 [==============================] - 4452s 983ms/step - loss: 0.2849 - binary_accuracy: 0.8863 - precision: 0.8746 - recall: 0.9020 - val_loss: 0.2344 - val_binary_accuracy: 0.9033 - val_precision: 0.7949 - val_recall: 0.9550 - lr: 1.0000e-05\n",
      "Epoch 2/12\n",
      "4460/4460 [==============================] - 4388s 984ms/step - loss: 0.1970 - binary_accuracy: 0.9252 - precision: 0.9153 - recall: 0.9372 - val_loss: 0.2398 - val_binary_accuracy: 0.9051 - val_precision: 0.7985 - val_recall: 0.9550 - lr: 1.0000e-05\n",
      "Epoch 3/12\n",
      "4460/4460 [==============================] - 4390s 984ms/step - loss: 0.1650 - binary_accuracy: 0.9393 - precision: 0.9274 - recall: 0.9534 - val_loss: 0.2232 - val_binary_accuracy: 0.9224 - val_precision: 0.8492 - val_recall: 0.9317 - lr: 1.0000e-05\n",
      "Epoch 4/12\n",
      "4460/4460 [==============================] - 4392s 985ms/step - loss: 0.1302 - binary_accuracy: 0.9539 - precision: 0.9441 - recall: 0.9650 - val_loss: 0.2513 - val_binary_accuracy: 0.9236 - val_precision: 0.8531 - val_recall: 0.9299 - lr: 1.0000e-05\n",
      "Epoch 5/12\n",
      "4460/4460 [==============================] - 4392s 985ms/step - loss: 0.1096 - binary_accuracy: 0.9627 - precision: 0.9526 - recall: 0.9738 - val_loss: 0.2549 - val_binary_accuracy: 0.9176 - val_precision: 0.8472 - val_recall: 0.9173 - lr: 1.0000e-05\n",
      "Epoch 6/12\n",
      "4460/4460 [==============================] - 4388s 984ms/step - loss: 0.0929 - binary_accuracy: 0.9683 - precision: 0.9603 - recall: 0.9769 - val_loss: 0.3208 - val_binary_accuracy: 0.9128 - val_precision: 0.8193 - val_recall: 0.9460 - lr: 1.0000e-05\n",
      "Epoch 7/12\n",
      "4460/4460 [==============================] - 4389s 984ms/step - loss: 0.0771 - binary_accuracy: 0.9717 - precision: 0.9643 - recall: 0.9798 - val_loss: 0.3598 - val_binary_accuracy: 0.9182 - val_precision: 0.8451 - val_recall: 0.9227 - lr: 1.0000e-05\n",
      "Epoch 8/12\n",
      "4460/4460 [==============================] - 4396s 986ms/step - loss: 0.0649 - binary_accuracy: 0.9761 - precision: 0.9707 - recall: 0.9818 - val_loss: 0.3287 - val_binary_accuracy: 0.9206 - val_precision: 0.8373 - val_recall: 0.9442 - lr: 1.0000e-05\n",
      "Epoch 9/12\n",
      "4460/4460 [==============================] - 4396s 986ms/step - loss: 0.0516 - binary_accuracy: 0.9834 - precision: 0.9800 - recall: 0.9870 - val_loss: 0.3749 - val_binary_accuracy: 0.9134 - val_precision: 0.8278 - val_recall: 0.9335 - lr: 1.0000e-05\n",
      "Epoch 10/12\n",
      "4460/4460 [==============================] - 4394s 985ms/step - loss: 0.0230 - binary_accuracy: 0.9923 - precision: 0.9908 - recall: 0.9937 - val_loss: 0.3829 - val_binary_accuracy: 0.9224 - val_precision: 0.8711 - val_recall: 0.8993 - lr: 2.5000e-06\n",
      "Epoch 11/12\n",
      "4460/4460 [==============================] - ETA: 0s - loss: 0.0127 - binary_accuracy: 0.9963 - precision: 0.9953 - recall: 0.9973"
     ]
    }
   ],
   "source": [
    "# Create a learning rate scheduler callback.\n",
    "lr_cb = tf.keras.callbacks.ReduceLROnPlateau(monitor=\"val_binary_accuracy\", mode=\"max\", factor=0.25, patience=5)\n",
    "# Create an early stopping callback.\n",
    "es_cb = tf.keras.callbacks.EarlyStopping(monitor=\"val_binary_accuracy\", mode=\"max\", patience=8, restore_best_weights=True)\n",
    "\n",
    "# Compile the model\n",
    "binary_classifier.compile(\n",
    "    optimizer=tfk.optimizers.Adam(learning_rate=learning_rate),  # Optimizer\n",
    "    # Loss function to minimize\n",
    "    loss=tfk.losses.BinaryCrossentropy(),\n",
    "    # List of metrics to monitor\n",
    "    metrics=[tfk.metrics.BinaryAccuracy(), tfk.metrics.Precision(), tfk.metrics.Recall()]\n",
    ")\n",
    "\n",
    "# Train the model\n",
    "history = binary_classifier.fit(\n",
    "    train_ds,\n",
    "    epochs=12, #200,\n",
    "    validation_data=val_ds,\n",
    "    callbacks=[lr_cb, es_cb],\n",
    ")\n",
    "\n",
    "binary_classifier.evaluate(test_ds, verbose=2)\n",
    "\n",
    "binary_classifier.save(\"ViTl16_30cm_AW2.h5\")"
   ]
  },
  {
   "cell_type": "code",
   "execution_count": null,
   "metadata": {},
   "outputs": [
    {
     "name": "stdout",
     "output_type": "stream",
     "text": [
      "Accuracy: 0.9079\n",
      "Precision: 0.8240\n",
      "Recall: 0.9192\n",
      "F1 Score: 0.8690\n"
     ]
    },
    {
     "data": {
      "image/png": "[encoded data removed]",
      "text/plain": [
       "<Figure size 640x480 with 2 Axes>"
      ]
     },
     "metadata": {},
     "output_type": "display_data"
    }
   ],
   "source": [
    "threshold = 0.5\n",
    "true_labels = []\n",
    "predicted_labels = []\n",
    "for images,labels in test_ds:\n",
    "    probabilities = binary_classifier.predict(images, verbose=0)[:,0]\n",
    "    predicted_labels += list((probabilities > threshold).astype(int))\n",
    "    true_labels += list(labels.numpy())\n",
    "\n",
    "accuracy = accuracy_score(true_labels, predicted_labels)\n",
    "print(f'Accuracy: {accuracy:.4f}')\n",
    "\n",
    "precision = precision_score(true_labels, predicted_labels)\n",
    "print(f'Precision: {precision:.4f}')\n",
    "\n",
    "recall = recall_score(true_labels, predicted_labels)\n",
    "print(f'Recall: {recall:.4f}')\n",
    "\n",
    "f1 = f1_score(true_labels, predicted_labels)\n",
    "print(f'F1 Score: {f1:.4f}')\n",
    "\n",
    "conf_matrix = confusion_matrix(true_labels, predicted_labels)\n",
    "sns.heatmap(conf_matrix, annot=True, fmt='d', cmap='Blues', xticklabels=['0', '1'], yticklabels=['0', '1'])\n",
    "plt.xlabel('Predicted')\n",
    "plt.ylabel('True')\n",
    "plt.show()\n"
   ]
  }
 ],
 "metadata": {
  "kernelspec": {
   "display_name": "Python 3",
   "language": "python",
   "name": "python3"
  },
  "language_info": {
   "codemirror_mode": {
    "name": "ipython",
    "version": 3
   },
   "file_extension": ".py",
   "mimetype": "text/x-python",
   "name": "python",
   "nbconvert_exporter": "python",
   "pygments_lexer": "ipython3",
   "version": "3.10.12"
  },
  "orig_nbformat": 4
 },
 "nbformat": 4,
 "nbformat_minor": 2
}
